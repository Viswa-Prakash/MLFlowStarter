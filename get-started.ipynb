{
 "cells": [
  {
   "cell_type": "markdown",
   "id": "24e9bb7c",
   "metadata": {},
   "source": [
    "## MLFLOW TRACKING SERVER"
   ]
  },
  {
   "cell_type": "code",
   "execution_count": 1,
   "id": "70685cf7",
   "metadata": {},
   "outputs": [],
   "source": [
    "import mlflow"
   ]
  },
  {
   "cell_type": "code",
   "execution_count": null,
   "id": "18ca7f2e",
   "metadata": {},
   "outputs": [],
   "source": [
    "mlflow.set_tracking_uri(\"http://127.0.0.1:5000\") # IP obtained using by running this command in bash mlflow ui "
   ]
  },
  {
   "cell_type": "code",
   "execution_count": 4,
   "id": "0e1ac51b",
   "metadata": {},
   "outputs": [
    {
     "name": "stderr",
     "output_type": "stream",
     "text": [
      "2025/06/14 21:09:32 INFO mlflow.tracking.fluent: Experiment with name ' Check Localhost Connection' does not exist. Creating a new experiment.\n"
     ]
    },
    {
     "name": "stdout",
     "output_type": "stream",
     "text": [
      "🏃 View run mercurial-moth-504 at: http://127.0.0.1:5000/#/experiments/695414004968151534/runs/a142e5b3b5b54895958dd89cc78d99b8\n",
      "🧪 View experiment at: http://127.0.0.1:5000/#/experiments/695414004968151534\n"
     ]
    }
   ],
   "source": [
    "mlflow.set_experiment(\" Check Localhost Connection\")\n",
    "\n",
    "with mlflow.start_run():\n",
    "    mlflow.log_metric(\"test1\", 1)\n",
    "    mlflow.log_metric(\"test2\", 2)"
   ]
  },
  {
   "cell_type": "code",
   "execution_count": 6,
   "id": "08e957f0",
   "metadata": {},
   "outputs": [
    {
     "name": "stdout",
     "output_type": "stream",
     "text": [
      "🏃 View run adventurous-mare-891 at: http://127.0.0.1:5000/#/experiments/695414004968151534/runs/213f029cc7ba425499ff3d12d98e9f6c\n",
      "🧪 View experiment at: http://127.0.0.1:5000/#/experiments/695414004968151534\n"
     ]
    }
   ],
   "source": [
    "with mlflow.start_run():\n",
    "    mlflow.log_metric(\"test3\", 3)\n",
    "    mlflow.log_metric(\"test4\",4)"
   ]
  },
  {
   "cell_type": "code",
   "execution_count": 7,
   "id": "e9eb1929",
   "metadata": {},
   "outputs": [
    {
     "name": "stdout",
     "output_type": "stream",
     "text": [
      "🏃 View run likeable-flea-324 at: http://127.0.0.1:5000/#/experiments/695414004968151534/runs/2724129cf5bd4a87b8cae07245c51bec\n",
      "🧪 View experiment at: http://127.0.0.1:5000/#/experiments/695414004968151534\n"
     ]
    }
   ],
   "source": [
    "with mlflow.start_run():\n",
    "    mlflow.log_metric(\"test5\", 5)\n",
    "    mlflow.log_metric(\"test6\", 6)"
   ]
  },
  {
   "cell_type": "code",
   "execution_count": null,
   "id": "968d51a9",
   "metadata": {},
   "outputs": [],
   "source": []
  }
 ],
 "metadata": {
  "kernelspec": {
   "display_name": "mlflow",
   "language": "python",
   "name": "python3"
  },
  "language_info": {
   "codemirror_mode": {
    "name": "ipython",
    "version": 3
   },
   "file_extension": ".py",
   "mimetype": "text/x-python",
   "name": "python",
   "nbconvert_exporter": "python",
   "pygments_lexer": "ipython3",
   "version": "3.10.18"
  }
 },
 "nbformat": 4,
 "nbformat_minor": 5
}
